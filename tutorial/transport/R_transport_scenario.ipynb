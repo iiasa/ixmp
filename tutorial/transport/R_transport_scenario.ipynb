{
 "cells": [
  {
   "cell_type": "markdown",
   "metadata": {},
   "source": [
    "# Tutorial 2 for R\n",
    "\n",
    "## Make a scenario of Dantzig's Transport Problem using the *ix modeling platform* (ixmp)\n",
    "\n",
    "<img style=\"float: right; height: 80px;\" src=\"_static/R_logo.png\">\n",
    "\n",
    "### Aim and scope of the tutorial\n",
    "\n",
    "This tutorial uses teh transport problem scenario developed in the first tutorial and illustrates how the ``ixmp`` framework can be applied for scenario analysis in the sense often used in economic or environmental modeling: develop a baseline, create a clone from the baseline with altered parameters or assumptions, and solve the new model. Then, compare the results from the original and altered scenario versions.\n",
    "\n",
    "In particular, this tutorial will take you through the following steps:\n",
    "0. Launch an ``ixmp.Platform`` instance and retrieve the ``ixmp.Scenario`` instance of Dantzig's transport problem\n",
    "0. Retrieve some data from the scenario for illustration of filters\n",
    "0. Make a clone of the baseline scenario, then check out the clone and make changes:  \n",
    "   in this case, add a new demand location and transport costs to that city\n",
    "0. Solve the new scenario\n",
    "0. Display the solution of both the baseline and the new scenario"
   ]
  },
  {
   "cell_type": "markdown",
   "metadata": {},
   "source": [
    "### Launching the platform, loading and cloning an existing datastructure\n",
    "\n",
    "This datastructure will be used to clone an existing scenario and, after varying some input parameters, to solve again the Dantzig's transport problem as well as the solution after solving it in GAMS."
   ]
  },
  {
   "cell_type": "code",
   "execution_count": null,
   "metadata": {
    "collapsed": true
   },
   "outputs": [],
   "source": [
    "# load the ixmp package source code\n",
    "source(file.path(Sys.getenv(\"IXMP_R_PATH\"), \"ixmp.R\"))"
   ]
  },
  {
   "cell_type": "code",
   "execution_count": null,
   "metadata": {
    "collapsed": true
   },
   "outputs": [],
   "source": [
    "# launch the ix modeling platform using the local default database     \n",
    "mp <- ixmp.Platform(dbtype=\"HSQLDB\")"
   ]
  },
  {
   "cell_type": "code",
   "execution_count": null,
   "metadata": {
    "collapsed": true
   },
   "outputs": [],
   "source": [
    "scen_list <- mp$scenario_list()\n",
    "scen_list\n",
    "\n",
    "# TODO: the conversion of the Java output of the `scenario_list()` function to a clean R dataframe is not yet implemented"
   ]
  },
  {
   "cell_type": "code",
   "execution_count": null,
   "metadata": {
    "collapsed": true
   },
   "outputs": [],
   "source": [
    "# details for loading an existing datastructure from the IX modeling platform                                                                                                                                                     \n",
    "model <- \"transport problem\"\n",
    "scenario <- \"standard\""
   ]
  },
  {
   "cell_type": "code",
   "execution_count": null,
   "metadata": {
    "collapsed": true
   },
   "outputs": [],
   "source": [
    "# load the default version scenario from the first tutorial\n",
    "scen <- mp$Scenario(model, scenario)"
   ]
  },
  {
   "cell_type": "markdown",
   "metadata": {},
   "source": [
    "### Retrieve some data from the scenario for illustration of filters\n",
    "\n",
    "Before cloning a scenario and editing data, this section illustrates two-and-a-half methods to retrieve data for a parameter from a scenario."
   ]
  },
  {
   "cell_type": "code",
   "execution_count": null,
   "metadata": {
    "collapsed": true
   },
   "outputs": [],
   "source": [
    "# load the distance parameter\n",
    "d = scen$par(\"d\")\n",
    "d                                                                                                                                 "
   ]
  },
  {
   "cell_type": "code",
   "execution_count": null,
   "metadata": {
    "collapsed": true
   },
   "outputs": [],
   "source": [
    "# show only the distances for connections from Seattle\n",
    "print(d[d['i'] == \"seattle\"])"
   ]
  },
  {
   "cell_type": "code",
   "execution_count": null,
   "metadata": {
    "collapsed": true
   },
   "outputs": [],
   "source": [
    "# for faster access or more complex filtering,\n",
    "# it may be easier to only load specific parameter elements using a dictionary\n",
    "ele_filter = {}\n",
    "ele_filter$i = c('seattle')\n",
    "ele_filter$j = c('chicago', 'topeka')\n",
    "\n",
    "d_filtered = scen$par(\"d\", ele_filter)\n",
    "d_filtered"
   ]
  },
  {
   "cell_type": "markdown",
   "metadata": {},
   "source": [
    "### Make a clone of the baseline scenario, then check out the clone and edit the scenario\n",
    "\n",
    "For illustration of a scenario analysis workflow, we add a new demand location ``detroit`` and add a demand level and transport costs to that city.\n",
    "Because the production capacity does not allow much slack for increased production, we also reduce the demand level in ``chicago``."
   ]
  },
  {
   "cell_type": "code",
   "execution_count": null,
   "metadata": {
    "collapsed": true
   },
   "outputs": [],
   "source": [
    "# create a new scenario by cloning the datastructure (without keeping the solution)\n",
    "scen_detroit <- scen$clone(model, 'detroit', annotation='extend the Transport problem by a new city', keep_sol=FALSE)"
   ]
  },
  {
   "cell_type": "code",
   "execution_count": null,
   "metadata": {
    "collapsed": true
   },
   "outputs": [],
   "source": [
    "# check out the datastructure to make changes\n",
    "scen_detroit$check_out()"
   ]
  },
  {
   "cell_type": "code",
   "execution_count": null,
   "metadata": {
    "collapsed": true
   },
   "outputs": [],
   "source": [
    "# reduce demand \n",
    "scen_detroit$add_par('b', 'chicago', 200, 'cases')\n",
    "\n",
    "# add a new city with demand and distances\n",
    "scen_detroit$add_set('j', 'detroit')\n",
    "scen_detroit$add_par('b', 'detroit', 150, 'cases')\n",
    "scen_detroit$add_par('d', c('seattle', 'detroit'), 1.7, 'cases')\n",
    "scen_detroit$add_par('d', c('san-diego', 'detroit'), 1.9, 'cases')"
   ]
  },
  {
   "cell_type": "code",
   "execution_count": null,
   "metadata": {
    "collapsed": true
   },
   "outputs": [],
   "source": [
    "# save changes to database\n",
    "comment = \"add new city 'detroit' with demand, reduce demand in 'chicago'\"\n",
    "scen_detroit$commit(comment)                                                                                                       \n",
    "scen_detroit$set_as_default()"
   ]
  },
  {
   "cell_type": "markdown",
   "metadata": {},
   "source": [
    "### Solve the new scenario"
   ]
  },
  {
   "cell_type": "code",
   "execution_count": null,
   "metadata": {
    "collapsed": true
   },
   "outputs": [],
   "source": [
    "scen_detroit$solve(model='transport_ixmp')"
   ]
  },
  {
   "cell_type": "markdown",
   "metadata": {},
   "source": [
    "### Display and analyze the results\n",
    "\n",
    "For comparison between the baseline scenario, i.e., the original transport problem, and the \"detroit\" scenario, we show the solution for both cases."
   ]
  },
  {
   "cell_type": "code",
   "execution_count": null,
   "metadata": {
    "collapsed": true
   },
   "outputs": [],
   "source": [
    "# display the objective value of the solution in the baseline scenario\n",
    "scen$var(\"z\")"
   ]
  },
  {
   "cell_type": "code",
   "execution_count": null,
   "metadata": {
    "collapsed": true
   },
   "outputs": [],
   "source": [
    "# display the objective value of the solution in the \"detroit\" scenario\n",
    "scen_detroit$var(\"z\")"
   ]
  },
  {
   "cell_type": "code",
   "execution_count": null,
   "metadata": {
    "collapsed": true
   },
   "outputs": [],
   "source": [
    "# display the quantities transported from canning plants to demand locations in the baseline scenario\n",
    "scen$var(\"x\")"
   ]
  },
  {
   "cell_type": "code",
   "execution_count": null,
   "metadata": {
    "collapsed": true
   },
   "outputs": [],
   "source": [
    "# display the quantities transported from canning plants to demand locations in the \"detroit\" scenario\n",
    "scen_detroit$var(\"x\")"
   ]
  },
  {
   "cell_type": "code",
   "execution_count": null,
   "metadata": {
    "collapsed": true
   },
   "outputs": [],
   "source": [
    "# display the quantities and marginals (=shadow prices) of the demand balance constraints in the baseline scenario\n",
    "scen$equ(\"demand\")"
   ]
  },
  {
   "cell_type": "code",
   "execution_count": null,
   "metadata": {
    "collapsed": true
   },
   "outputs": [],
   "source": [
    "# display the quantities and marginals (=shadow prices) of the demand balance constraints in the \"detroit\" scenario\n",
    "scen_detroit$equ(\"demand\")"
   ]
  },
  {
   "cell_type": "markdown",
   "metadata": {},
   "source": [
    "### Close the database connection of the ix modeling platform"
   ]
  },
  {
   "cell_type": "code",
   "execution_count": null,
   "metadata": {
    "collapsed": true
   },
   "outputs": [],
   "source": [
    "# close the connection of the platform instance to the local ixmp database files\n",
    "mp$close_db()"
   ]
  }
 ],
 "metadata": {
  "anaconda-cloud": {},
  "kernelspec": {
   "display_name": "R",
   "language": "R",
   "name": "ir"
  },
  "language_info": {
   "codemirror_mode": "r",
   "file_extension": ".r",
   "mimetype": "text/x-r-source",
   "name": "R",
   "pygments_lexer": "r",
   "version": "3.3.2"
  }
 },
 "nbformat": 4,
 "nbformat_minor": 1
}
